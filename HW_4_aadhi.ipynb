{
 "cells": [
  {
   "cell_type": "code",
   "execution_count": 30,
   "id": "55690786",
   "metadata": {},
   "outputs": [],
   "source": [
    "import pandas as pd"
   ]
  },
  {
   "cell_type": "code",
   "execution_count": 31,
   "id": "8cc99a0b",
   "metadata": {},
   "outputs": [],
   "source": [
    "df = pd.read_csv(\"C:/Users/12036/Documents/data_hw4.csv\")\n"
   ]
  },
  {
   "cell_type": "code",
   "execution_count": 32,
   "id": "c43ff83f",
   "metadata": {},
   "outputs": [
    {
     "data": {
      "text/html": [
       "<div>\n",
       "<style scoped>\n",
       "    .dataframe tbody tr th:only-of-type {\n",
       "        vertical-align: middle;\n",
       "    }\n",
       "\n",
       "    .dataframe tbody tr th {\n",
       "        vertical-align: top;\n",
       "    }\n",
       "\n",
       "    .dataframe thead th {\n",
       "        text-align: right;\n",
       "    }\n",
       "</style>\n",
       "<table border=\"1\" class=\"dataframe\">\n",
       "  <thead>\n",
       "    <tr style=\"text-align: right;\">\n",
       "      <th></th>\n",
       "      <th>Age</th>\n",
       "      <th>Competition</th>\n",
       "      <th>Type</th>\n",
       "      <th>Profit</th>\n",
       "    </tr>\n",
       "  </thead>\n",
       "  <tbody>\n",
       "    <tr>\n",
       "      <th>0</th>\n",
       "      <td>Old</td>\n",
       "      <td>Yes</td>\n",
       "      <td>Software</td>\n",
       "      <td>Down</td>\n",
       "    </tr>\n",
       "    <tr>\n",
       "      <th>1</th>\n",
       "      <td>Old</td>\n",
       "      <td>No</td>\n",
       "      <td>Software</td>\n",
       "      <td>Down</td>\n",
       "    </tr>\n",
       "    <tr>\n",
       "      <th>2</th>\n",
       "      <td>Old</td>\n",
       "      <td>No</td>\n",
       "      <td>Hardware</td>\n",
       "      <td>Down</td>\n",
       "    </tr>\n",
       "    <tr>\n",
       "      <th>3</th>\n",
       "      <td>Mid</td>\n",
       "      <td>Yes</td>\n",
       "      <td>Software</td>\n",
       "      <td>Down</td>\n",
       "    </tr>\n",
       "    <tr>\n",
       "      <th>4</th>\n",
       "      <td>Mid</td>\n",
       "      <td>Yes</td>\n",
       "      <td>Hardware</td>\n",
       "      <td>Down</td>\n",
       "    </tr>\n",
       "    <tr>\n",
       "      <th>5</th>\n",
       "      <td>Mid</td>\n",
       "      <td>No</td>\n",
       "      <td>Hardware</td>\n",
       "      <td>Up</td>\n",
       "    </tr>\n",
       "    <tr>\n",
       "      <th>6</th>\n",
       "      <td>Mid</td>\n",
       "      <td>No</td>\n",
       "      <td>Software</td>\n",
       "      <td>Up</td>\n",
       "    </tr>\n",
       "    <tr>\n",
       "      <th>7</th>\n",
       "      <td>New</td>\n",
       "      <td>Yes</td>\n",
       "      <td>Software</td>\n",
       "      <td>Up</td>\n",
       "    </tr>\n",
       "    <tr>\n",
       "      <th>8</th>\n",
       "      <td>New</td>\n",
       "      <td>No</td>\n",
       "      <td>Hardware</td>\n",
       "      <td>Up</td>\n",
       "    </tr>\n",
       "    <tr>\n",
       "      <th>9</th>\n",
       "      <td>New</td>\n",
       "      <td>No</td>\n",
       "      <td>Software</td>\n",
       "      <td>Up</td>\n",
       "    </tr>\n",
       "    <tr>\n",
       "      <th>10</th>\n",
       "      <td>Mid</td>\n",
       "      <td>No</td>\n",
       "      <td>Hardware</td>\n",
       "      <td>?</td>\n",
       "    </tr>\n",
       "  </tbody>\n",
       "</table>\n",
       "</div>"
      ],
      "text/plain": [
       "     Age Competition      Type Profit\n",
       "0    Old         Yes  Software   Down\n",
       "1    Old          No  Software   Down\n",
       "2    Old          No  Hardware   Down\n",
       "3    Mid         Yes  Software   Down\n",
       "4    Mid         Yes  Hardware   Down\n",
       "5    Mid          No  Hardware     Up\n",
       "6    Mid          No  Software     Up\n",
       "7   New          Yes  Software     Up\n",
       "8   New           No  Hardware     Up\n",
       "9   New           No  Software     Up\n",
       "10   Mid          No  Hardware      ?"
      ]
     },
     "execution_count": 32,
     "metadata": {},
     "output_type": "execute_result"
    }
   ],
   "source": [
    "df.head()\n",
    "df"
   ]
  },
  {
   "cell_type": "code",
   "execution_count": 33,
   "id": "17af3351",
   "metadata": {},
   "outputs": [],
   "source": [
    "x_train = df.iloc[:,0:3]\n",
    "y_train = df.iloc[:,3]"
   ]
  },
  {
   "cell_type": "code",
   "execution_count": 34,
   "id": "c7e7f27d",
   "metadata": {},
   "outputs": [],
   "source": [
    "from sklearn.tree import DecisionTreeClassifier\n",
    "import numpy as np\n",
    "from sklearn import tree"
   ]
  },
  {
   "cell_type": "code",
   "execution_count": 35,
   "id": "246c22de",
   "metadata": {},
   "outputs": [
    {
     "name": "stderr",
     "output_type": "stream",
     "text": [
      "C:\\Users\\12036\\AppData\\Local\\Temp/ipykernel_7208/1840127591.py:5: SettingWithCopyWarning: \n",
      "A value is trying to be set on a copy of a slice from a DataFrame.\n",
      "Try using .loc[row_indexer,col_indexer] = value instead\n",
      "\n",
      "See the caveats in the documentation: https://pandas.pydata.org/pandas-docs/stable/user_guide/indexing.html#returning-a-view-versus-a-copy\n",
      "  x_train[Age] = le.fit_transform(x_train[Age])\n"
     ]
    }
   ],
   "source": [
    "from sklearn import preprocessing\n",
    "le = preprocessing.LabelEncoder()\n",
    "for Age in x_train.columns:\n",
    "    if x_train[Age].dtype == object:\n",
    "        x_train[Age] = le.fit_transform(x_train[Age])\n",
    "    else:\n",
    "        pass"
   ]
  },
  {
   "cell_type": "code",
   "execution_count": 36,
   "id": "bce2c9ce",
   "metadata": {},
   "outputs": [],
   "source": [
    "clf_tree=DecisionTreeClassifier(random_state=0,max_depth=3)\n",
    "clf_fit=clf_tree.fit(x_train,y_train)"
   ]
  },
  {
   "cell_type": "code",
   "execution_count": 37,
   "id": "08607e51",
   "metadata": {},
   "outputs": [],
   "source": [
    "x_test=np.array([1,1,1])\n",
    "x_test=x_test.reshape(1,-1)\n",
    "predicted=clf_fit.predict(x_test)\n",
    "\n"
   ]
  },
  {
   "cell_type": "code",
   "execution_count": 38,
   "id": "669a9ca0",
   "metadata": {},
   "outputs": [
    {
     "name": "stdout",
     "output_type": "stream",
     "text": [
      "['Up']\n"
     ]
    }
   ],
   "source": [
    "print(predicted)"
   ]
  },
  {
   "cell_type": "code",
   "execution_count": null,
   "id": "1cdf0136",
   "metadata": {},
   "outputs": [],
   "source": []
  }
 ],
 "metadata": {
  "kernelspec": {
   "display_name": "Python 3 (ipykernel)",
   "language": "python",
   "name": "python3"
  },
  "language_info": {
   "codemirror_mode": {
    "name": "ipython",
    "version": 3
   },
   "file_extension": ".py",
   "mimetype": "text/x-python",
   "name": "python",
   "nbconvert_exporter": "python",
   "pygments_lexer": "ipython3",
   "version": "3.9.7"
  }
 },
 "nbformat": 4,
 "nbformat_minor": 5
}
