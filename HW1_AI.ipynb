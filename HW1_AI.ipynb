{
 "cells": [
  {
   "cell_type": "code",
   "execution_count": 6,
   "id": "5492ecee",
   "metadata": {},
   "outputs": [
    {
     "name": "stdout",
     "output_type": "stream",
     "text": [
      "[129.01956696 142.76293569]\n"
     ]
    }
   ],
   "source": [
    "id = [i for i in range(1,17)]\n",
    "id\n",
    "#Patients Age\n",
    "Age = [60, 61, 74, 57, 63, 68, 66, 77, 63, 54, 63, 76, 60, 61, 65, 79]\n",
    "len(Age)\n",
    "#Patients Weights\n",
    "Weights = [58, 90, 96, 72, 62, 79, 69, 96, 96, 54, 67, 99, 74, 73, 85, 80]\n",
    "len(Weights)\n",
    "#Systolic Blood Pressure\n",
    "SBP = [117, 120, 145, 129, 132, 130, 110, 163, 136, 115, 118, 132, 111, 112, 0, 0]\n",
    "len(SBP)\n",
    "pred = model.predict(x_test)\n",
    "print(pred) "
   ]
  },
  {
   "cell_type": "code",
   "execution_count": 7,
   "id": "7659bc28",
   "metadata": {},
   "outputs": [
    {
     "data": {
      "text/html": [
       "<div>\n",
       "<style scoped>\n",
       "    .dataframe tbody tr th:only-of-type {\n",
       "        vertical-align: middle;\n",
       "    }\n",
       "\n",
       "    .dataframe tbody tr th {\n",
       "        vertical-align: top;\n",
       "    }\n",
       "\n",
       "    .dataframe thead th {\n",
       "        text-align: right;\n",
       "    }\n",
       "</style>\n",
       "<table border=\"1\" class=\"dataframe\">\n",
       "  <thead>\n",
       "    <tr style=\"text-align: right;\">\n",
       "      <th></th>\n",
       "      <th>Age(Years)</th>\n",
       "      <th>Weight(Kg)</th>\n",
       "      <th>SBP(mm Hg)</th>\n",
       "    </tr>\n",
       "  </thead>\n",
       "  <tbody>\n",
       "    <tr>\n",
       "      <th>0</th>\n",
       "      <td>60</td>\n",
       "      <td>58</td>\n",
       "      <td>117</td>\n",
       "    </tr>\n",
       "    <tr>\n",
       "      <th>1</th>\n",
       "      <td>61</td>\n",
       "      <td>90</td>\n",
       "      <td>120</td>\n",
       "    </tr>\n",
       "    <tr>\n",
       "      <th>2</th>\n",
       "      <td>74</td>\n",
       "      <td>96</td>\n",
       "      <td>145</td>\n",
       "    </tr>\n",
       "    <tr>\n",
       "      <th>3</th>\n",
       "      <td>57</td>\n",
       "      <td>72</td>\n",
       "      <td>129</td>\n",
       "    </tr>\n",
       "    <tr>\n",
       "      <th>4</th>\n",
       "      <td>63</td>\n",
       "      <td>62</td>\n",
       "      <td>132</td>\n",
       "    </tr>\n",
       "    <tr>\n",
       "      <th>5</th>\n",
       "      <td>68</td>\n",
       "      <td>79</td>\n",
       "      <td>130</td>\n",
       "    </tr>\n",
       "    <tr>\n",
       "      <th>6</th>\n",
       "      <td>66</td>\n",
       "      <td>69</td>\n",
       "      <td>110</td>\n",
       "    </tr>\n",
       "    <tr>\n",
       "      <th>7</th>\n",
       "      <td>77</td>\n",
       "      <td>96</td>\n",
       "      <td>163</td>\n",
       "    </tr>\n",
       "    <tr>\n",
       "      <th>8</th>\n",
       "      <td>63</td>\n",
       "      <td>96</td>\n",
       "      <td>136</td>\n",
       "    </tr>\n",
       "    <tr>\n",
       "      <th>9</th>\n",
       "      <td>54</td>\n",
       "      <td>54</td>\n",
       "      <td>115</td>\n",
       "    </tr>\n",
       "    <tr>\n",
       "      <th>10</th>\n",
       "      <td>63</td>\n",
       "      <td>67</td>\n",
       "      <td>118</td>\n",
       "    </tr>\n",
       "    <tr>\n",
       "      <th>11</th>\n",
       "      <td>76</td>\n",
       "      <td>99</td>\n",
       "      <td>132</td>\n",
       "    </tr>\n",
       "    <tr>\n",
       "      <th>12</th>\n",
       "      <td>60</td>\n",
       "      <td>74</td>\n",
       "      <td>111</td>\n",
       "    </tr>\n",
       "    <tr>\n",
       "      <th>13</th>\n",
       "      <td>61</td>\n",
       "      <td>73</td>\n",
       "      <td>112</td>\n",
       "    </tr>\n",
       "    <tr>\n",
       "      <th>14</th>\n",
       "      <td>65</td>\n",
       "      <td>85</td>\n",
       "      <td>0</td>\n",
       "    </tr>\n",
       "    <tr>\n",
       "      <th>15</th>\n",
       "      <td>79</td>\n",
       "      <td>80</td>\n",
       "      <td>0</td>\n",
       "    </tr>\n",
       "  </tbody>\n",
       "</table>\n",
       "</div>"
      ],
      "text/plain": [
       "    Age(Years)  Weight(Kg)  SBP(mm Hg)\n",
       "0           60          58         117\n",
       "1           61          90         120\n",
       "2           74          96         145\n",
       "3           57          72         129\n",
       "4           63          62         132\n",
       "5           68          79         130\n",
       "6           66          69         110\n",
       "7           77          96         163\n",
       "8           63          96         136\n",
       "9           54          54         115\n",
       "10          63          67         118\n",
       "11          76          99         132\n",
       "12          60          74         111\n",
       "13          61          73         112\n",
       "14          65          85           0\n",
       "15          79          80           0"
      ]
     },
     "execution_count": 7,
     "metadata": {},
     "output_type": "execute_result"
    }
   ],
   "source": [
    "from sklearn.linear_model import LinearRegression\n",
    "\n",
    "import pandas as pd\n",
    "data = {\"Age(Years)\":Age, \"Weight(Kg)\":Weights, \"SBP(mm Hg)\":SBP}\n",
    "\n",
    "data = pd.DataFrame(data = data)\n",
    "\n",
    "data\n"
   ]
  },
  {
   "cell_type": "code",
   "execution_count": 8,
   "id": "b98ed403",
   "metadata": {},
   "outputs": [
    {
     "data": {
      "text/plain": [
       "LinearRegression()"
      ]
     },
     "execution_count": 8,
     "metadata": {},
     "output_type": "execute_result"
    }
   ],
   "source": [
    "x = data[[\"Age(Years)\", \"Weight(Kg)\"]]\n",
    "y = data[\"SBP(mm Hg)\"]\n",
    "\n",
    "x_train = x[:14]\n",
    "x_test = x[14:]\n",
    "\n",
    "\n",
    "y_train = y[:14]\n",
    "y_test = y[14:]\n",
    "\n",
    "\n",
    "\n",
    "model = LinearRegression()\n",
    "model.fit(x_train, y_train)\n",
    "\n"
   ]
  },
  {
   "cell_type": "code",
   "execution_count": 9,
   "id": "fd3083a7",
   "metadata": {},
   "outputs": [
    {
     "name": "stdout",
     "output_type": "stream",
     "text": [
      "[129.01956696 142.76293569]\n"
     ]
    }
   ],
   "source": [
    "pred = model.predict(x_test)\n",
    "print(pred) "
   ]
  },
  {
   "cell_type": "code",
   "execution_count": 22,
   "id": "2837f391",
   "metadata": {},
   "outputs": [
    {
     "data": {
      "image/png": "[encoded data removed]",
      "text/plain": [
       "<Figure size 864x648 with 1 Axes>"
      ]
     },
     "metadata": {
      "needs_background": "light"
     },
     "output_type": "display_data"
    }
   ],
   "source": [
    "############################# Question - 2 ################################\n",
    "\n",
    "import matplotlib.pyplot as plt\n",
    "plt.rcParams['figure.figsize'] = (12.0, 9.0)\n",
    "\n",
    "df = pd.read_csv('C:/Users/12036/Documents/HW1_AI_q2.csv')\n",
    "X = df.iloc[:, 0]\n",
    "Y = df.iloc[:, 1]\n",
    "plt.scatter(X, Y)\n",
    "plt.show()"
   ]
  },
  {
   "cell_type": "code",
   "execution_count": 24,
   "id": "25547fc5",
   "metadata": {},
   "outputs": [
    {
     "name": "stdout",
     "output_type": "stream",
     "text": [
      "13.31722927828154 -8.077015761604025\n"
     ]
    }
   ],
   "source": [
    "m = 0\n",
    "c = 0\n",
    "\n",
    "L = 0.001\n",
    "epx = 2000\n",
    "\n",
    "z = float(len(X))\n",
    "\n",
    "for i in range(epx):\n",
    "    Y_pred = m*X+c\n",
    "    \n",
    "    d_m = (-2/z) * sum(X*(Y-Y_pred))\n",
    "    d_c = (-2/z) * sum(Y-Y_pred)\n",
    "    \n",
    "    m = m - L * d_m\n",
    "    c = c - L * d_c\n",
    "    \n",
    "print(m,c)"
   ]
  },
  {
   "cell_type": "code",
   "execution_count": 26,
   "id": "c0ea2962",
   "metadata": {},
   "outputs": [
    {
     "data": {
      "text/plain": [
       "<function matplotlib.pyplot.show(close=None, block=None)>"
      ]
     },
     "execution_count": 26,
     "metadata": {},
     "output_type": "execute_result"
    },
    {
     "data": {
      "image/png": "[encoded data removed]",
      "text/plain": [
       "<Figure size 864x648 with 1 Axes>"
      ]
     },
     "metadata": {
      "needs_background": "light"
     },
     "output_type": "display_data"
    }
   ],
   "source": [
    "Y_pred = m * X + c\n",
    "\n",
    "plt.scatter(X, Y)\n",
    "plt.plot([min(X), max(X)], [min(Y_pred), max(Y_pred)], color = 'green')\n",
    "\n",
    "plt.show"
   ]
  },
  {
   "cell_type": "code",
   "execution_count": 27,
   "id": "4f68a621",
   "metadata": {},
   "outputs": [
    {
     "name": "stdout",
     "output_type": "stream",
     "text": [
      "S  matrix\n",
      "The parameters are:\n",
      "None\n"
     ]
    }
   ],
   "source": [
    "################################# Question - 3 #####################################\n",
    "\n",
    "import numpy as np\n",
    "def cramer_rule(X, y):\n",
    "    det = np.linalg.det(X)\n",
    "    if det == 0:\n",
    "        print(\"S  matrix\")\n",
    "    return\n",
    "    inv = np.linalg.inv(X)\n",
    "    thetas = np.dot(inv, y)\n",
    "    print(\"The parameters are:\")\n",
    "    print(thetas)\n",
    "    return thetas\n",
    "if __name__ == \"__main__\":\n",
    "    X = np.array([[1, 4,0,0,0,0,0,0,0,0,0], [1, 5,0,0,0,0,0,0,0,0,0], [1, 16,0,0,0,0,0,0,0,0,0], [1, 21,0,0,0,0,0,0,0,0,0], \n",
    "                  [1, 36,0,0,0,0,0,0,0,0,0], [1, 45,0,0,0,0,0,0,0,0,0], [1, 64,0,0,0,0,0,0,0,0,0], \n",
    "                  [1, 77,0,0,0,0,0,0,0,0,0], [1, 100,0,0,0,0,0,0,0,0,0], [1, 117,0,0,0,0,0,0,0,0,0], \n",
    "                  [1, 144,0,0,0,0,0,0,0,0,0]])\n",
    "    y = np.array([[4], [5], [16], [21], [36], [45], [64], [77], [100], [117], [144]])\n",
    "    thetas = cramer_rule(X, y)\n",
    "    print(\"The parameters are:\")\n",
    "    print(thetas)"
   ]
  },
  {
   "cell_type": "code",
   "execution_count": null,
   "id": "6fc92d1e",
   "metadata": {},
   "outputs": [],
   "source": []
  }
 ],
 "metadata": {
  "kernelspec": {
   "display_name": "Python 3 (ipykernel)",
   "language": "python",
   "name": "python3"
  },
  "language_info": {
   "codemirror_mode": {
    "name": "ipython",
    "version": 3
   },
   "file_extension": ".py",
   "mimetype": "text/x-python",
   "name": "python",
   "nbconvert_exporter": "python",
   "pygments_lexer": "ipython3",
   "version": "3.9.7"
  }
 },
 "nbformat": 4,
 "nbformat_minor": 5
}
