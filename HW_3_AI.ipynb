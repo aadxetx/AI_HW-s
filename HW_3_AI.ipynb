{
 "cells": [
  {
   "cell_type": "code",
   "execution_count": 23,
   "id": "191700eb",
   "metadata": {},
   "outputs": [],
   "source": [
    "##### HOMEWORK 3 #####\n",
    "############################# PART 2 ################################\n",
    "\n",
    "import numpy as np\n",
    "import pandas as pd\n",
    "import matplotlib.pyplot as plt\n",
    "\n",
    "plt.style.use('ggplot')"
   ]
  },
  {
   "cell_type": "code",
   "execution_count": 36,
   "id": "3ed0fb03",
   "metadata": {},
   "outputs": [
    {
     "data": {
      "text/html": [
       "<div>\n",
       "<style scoped>\n",
       "    .dataframe tbody tr th:only-of-type {\n",
       "        vertical-align: middle;\n",
       "    }\n",
       "\n",
       "    .dataframe tbody tr th {\n",
       "        vertical-align: top;\n",
       "    }\n",
       "\n",
       "    .dataframe thead th {\n",
       "        text-align: right;\n",
       "    }\n",
       "</style>\n",
       "<table border=\"1\" class=\"dataframe\">\n",
       "  <thead>\n",
       "    <tr style=\"text-align: right;\">\n",
       "      <th></th>\n",
       "      <th>ID</th>\n",
       "      <th>Name</th>\n",
       "      <th>Age</th>\n",
       "      <th>Gender</th>\n",
       "      <th>Fan</th>\n",
       "    </tr>\n",
       "  </thead>\n",
       "  <tbody>\n",
       "    <tr>\n",
       "      <th>0</th>\n",
       "      <td>0</td>\n",
       "      <td>Bill</td>\n",
       "      <td>32</td>\n",
       "      <td>M</td>\n",
       "      <td>Rolling Stones</td>\n",
       "    </tr>\n",
       "    <tr>\n",
       "      <th>1</th>\n",
       "      <td>1</td>\n",
       "      <td>Henry</td>\n",
       "      <td>40</td>\n",
       "      <td>M</td>\n",
       "      <td>Neither</td>\n",
       "    </tr>\n",
       "    <tr>\n",
       "      <th>2</th>\n",
       "      <td>2</td>\n",
       "      <td>Mary</td>\n",
       "      <td>16</td>\n",
       "      <td>F</td>\n",
       "      <td>Taylor Swift</td>\n",
       "    </tr>\n",
       "    <tr>\n",
       "      <th>3</th>\n",
       "      <td>3</td>\n",
       "      <td>Tiffany</td>\n",
       "      <td>14</td>\n",
       "      <td>F</td>\n",
       "      <td>Taylor Swift</td>\n",
       "    </tr>\n",
       "    <tr>\n",
       "      <th>4</th>\n",
       "      <td>4</td>\n",
       "      <td>Michael</td>\n",
       "      <td>55</td>\n",
       "      <td>M</td>\n",
       "      <td>Neither</td>\n",
       "    </tr>\n",
       "    <tr>\n",
       "      <th>5</th>\n",
       "      <td>5</td>\n",
       "      <td>Carlos</td>\n",
       "      <td>40</td>\n",
       "      <td>M</td>\n",
       "      <td>Taylor Swift</td>\n",
       "    </tr>\n",
       "    <tr>\n",
       "      <th>6</th>\n",
       "      <td>6</td>\n",
       "      <td>Ashley</td>\n",
       "      <td>20</td>\n",
       "      <td>F</td>\n",
       "      <td>Neither</td>\n",
       "    </tr>\n",
       "    <tr>\n",
       "      <th>7</th>\n",
       "      <td>7</td>\n",
       "      <td>Robert</td>\n",
       "      <td>15</td>\n",
       "      <td>M</td>\n",
       "      <td>Taylor Swift</td>\n",
       "    </tr>\n",
       "    <tr>\n",
       "      <th>8</th>\n",
       "      <td>8</td>\n",
       "      <td>Sally</td>\n",
       "      <td>55</td>\n",
       "      <td>F</td>\n",
       "      <td>Rolling Stones</td>\n",
       "    </tr>\n",
       "    <tr>\n",
       "      <th>9</th>\n",
       "      <td>9</td>\n",
       "      <td>John</td>\n",
       "      <td>15</td>\n",
       "      <td>M</td>\n",
       "      <td>Rolling Stones</td>\n",
       "    </tr>\n",
       "    <tr>\n",
       "      <th>10</th>\n",
       "      <td>10</td>\n",
       "      <td>Michelle</td>\n",
       "      <td>10</td>\n",
       "      <td>F</td>\n",
       "      <td>Taylor Swift</td>\n",
       "    </tr>\n",
       "  </tbody>\n",
       "</table>\n",
       "</div>"
      ],
      "text/plain": [
       "    ID      Name  Age Gender             Fan\n",
       "0    0      Bill   32      M  Rolling Stones\n",
       "1    1     Henry   40      M         Neither\n",
       "2    2      Mary   16      F    Taylor Swift\n",
       "3    3   Tiffany   14      F    Taylor Swift\n",
       "4    4   Michael   55      M         Neither\n",
       "5    5    Carlos   40      M    Taylor Swift\n",
       "6    6    Ashley   20      F         Neither\n",
       "7    7    Robert   15      M    Taylor Swift\n",
       "8    8     Sally   55      F  Rolling Stones\n",
       "9    9      John   15      M  Rolling Stones\n",
       "10  10  Michelle   10      F    Taylor Swift"
      ]
     },
     "execution_count": 36,
     "metadata": {},
     "output_type": "execute_result"
    }
   ],
   "source": [
    "df = pd.read_csv('C:/Users/12036/Documents/Knn_hw.csv')\n",
    "\n",
    "df.head()\n",
    "df"
   ]
  },
  {
   "cell_type": "code",
   "execution_count": 40,
   "id": "600db032",
   "metadata": {},
   "outputs": [],
   "source": [
    "df['Gender'] = np.where(df['Gender'] == 'M',0,1)"
   ]
  },
  {
   "cell_type": "code",
   "execution_count": 42,
   "id": "b61b21aa",
   "metadata": {},
   "outputs": [],
   "source": [
    "from sklearn.model_selection import train_test_split\n",
    "from sklearn.preprocessing import LabelEncoder\n",
    "from sklearn.neighbors import KNeighborsClassifier\n",
    "\n",
    "X = df.iloc[:, [1, 2, 3]].values\n",
    "y = df.iloc[:, -1].values\n",
    "le = LabelEncoder()\n",
    "X[:,0] = le.fit_transform(X[:,0])\n",
    "X_train, X_test, y_train, y_test = train_test_split(X, y, test_size = 0.3, random_state = 1234)\n"
   ]
  },
  {
   "cell_type": "code",
   "execution_count": 43,
   "id": "d381c996",
   "metadata": {},
   "outputs": [
    {
     "data": {
      "text/plain": [
       "Text(0, 0.5, 'Mean Error')"
      ]
     },
     "execution_count": 43,
     "metadata": {},
     "output_type": "execute_result"
    },
    {
     "data": {
      "image/png": "[encoded data removed]",
      "text/plain": [
       "<Figure size 864x432 with 1 Axes>"
      ]
     },
     "metadata": {},
     "output_type": "display_data"
    }
   ],
   "source": [
    "error = []\n",
    "for i in range(1, 8):\n",
    "   knn = KNeighborsClassifier(n_neighbors=i)\n",
    "   knn.fit(X_train, y_train)\n",
    "   pred_i = knn.predict(X_test)\n",
    "   error.append(np.mean(pred_i != y_test))\n",
    "   \n",
    "plt.figure(figsize = (12, 6))\n",
    "plt.plot(range(1, 8), error, color = 'red', linestyle = 'dashed', marker='o',\n",
    "        markerfacecolor = 'blue', markersize = 10)\n",
    "plt.title('Error Rate')\n",
    "plt.xlabel('K Value')\n",
    "plt.ylabel('Mean Error')"
   ]
  },
  {
   "cell_type": "code",
   "execution_count": 44,
   "id": "90c939b0",
   "metadata": {},
   "outputs": [
    {
     "name": "stdout",
     "output_type": "stream",
     "text": [
      "['Neither' 'Taylor Swift' 'Taylor Swift' 'Taylor Swift']\n"
     ]
    }
   ],
   "source": [
    "knn = KNeighborsClassifier(n_neighbors = 4)\n",
    "knn.fit(X_train, y_train)\n",
    "\n",
    "print(knn.predict(X_test))                                "
   ]
  },
  {
   "cell_type": "code",
   "execution_count": 48,
   "id": "ec94e45f",
   "metadata": {},
   "outputs": [
    {
     "name": "stdout",
     "output_type": "stream",
     "text": [
      "Data:\n",
      "         X  Y  Z\n",
      "Objects         \n",
      "OB-1     1  4  1\n",
      "OB-2     1  2  2\n",
      "OB-3     1  4  2\n",
      "OB-4     2  1  2\n",
      "OB-5     1  1  1\n",
      "OB-6     2  4  2\n",
      "OB-7     1  1  2\n",
      "OB-8     2  1  1\n",
      "\n",
      "best value of k is 2.\n"
     ]
    },
    {
     "name": "stderr",
     "output_type": "stream",
     "text": [
      "C:\\Users\\12036\\anaconda3\\lib\\site-packages\\sklearn\\cluster\\_kmeans.py:881: UserWarning: KMeans is known to have a memory leak on Windows with MKL, when there are less chunks than available threads. You can avoid it by setting the environment variable OMP_NUM_THREADS=1.\n",
      "  warnings.warn(\n"
     ]
    },
    {
     "data": {
      "image/png": "[encoded data removed]",
      "text/plain": [
       "<Figure size 432x288 with 1 Axes>"
      ]
     },
     "metadata": {},
     "output_type": "display_data"
    }
   ],
   "source": [
    "########################### PART 3 ############################\n",
    "\n",
    "from sklearn.cluster import KMeans\n",
    "import matplotlib.pyplot as plt\n",
    "import pandas as pd\n",
    "\n",
    "dfx = pd.read_csv(\"C:/Users/12036/Documents/wcss_hw3_AI.csv\",index_col=0)\n",
    "print(\"Data:\")\n",
    "print(dfx)\n",
    "\n",
    "\n",
    "wcss = []\n",
    "for k in range(1,6):\n",
    "    kmeans = KMeans(n_clusters = k, random_state = 0)\n",
    "    kmeans.fit(dfx)\n",
    "    wcss.append(kmeans.inertia_)\n",
    "\n",
    "plt.plot(range(1,6), wcss)\n",
    "plt.title('The elbow method')\n",
    "plt.xlabel('The number of clusters')\n",
    "plt.ylabel('WCSS')\n",
    "\n",
    "print()\n",
    "print(\"best value of k is 2.\")\n",
    "\n",
    " "
   ]
  },
  {
   "cell_type": "code",
   "execution_count": null,
   "id": "10a3b591",
   "metadata": {},
   "outputs": [],
   "source": []
  }
 ],
 "metadata": {
  "kernelspec": {
   "display_name": "Python 3 (ipykernel)",
   "language": "python",
   "name": "python3"
  },
  "language_info": {
   "codemirror_mode": {
    "name": "ipython",
    "version": 3
   },
   "file_extension": ".py",
   "mimetype": "text/x-python",
   "name": "python",
   "nbconvert_exporter": "python",
   "pygments_lexer": "ipython3",
   "version": "3.9.7"
  }
 },
 "nbformat": 4,
 "nbformat_minor": 5
}
